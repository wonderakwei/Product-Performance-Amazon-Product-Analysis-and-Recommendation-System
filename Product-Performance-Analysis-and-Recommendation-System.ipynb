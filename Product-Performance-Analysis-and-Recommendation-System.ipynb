{
 "cells": [
  {
   "cell_type": "markdown",
   "id": "72688798",
   "metadata": {},
   "source": [
    "# Overview:\n",
    "\n",
    "The Amazon Sales Dataset is a comprehensive collection of over 1,000 Amazon product ratings and reviews. Curated directly from Amazon's official website, this dataset offers valuable insights into consumer preferences, product popularity, and user sentiment.\n",
    "\n"
   ]
  },
  {
   "cell_type": "markdown",
   "id": "4e5e0a66",
   "metadata": {},
   "source": [
    "# Key Features:\n",
    "\n",
    "Product Details: Each entry includes essential information such as product ID, name, category, and pricing details.\n",
    "\n",
    "Price Metrics: Understand the dynamics of product pricing with both the discounted and actual prices provided, along with the discount percentage.\n",
    "\n",
    "Rating Insights: Access the product's overall rating and the number of individuals who contributed to that rating.\n",
    "\n",
    "User Feedback: Delve into the specifics of user reviews, including the user's ID, name, review title, detailed review content, and corresponding review ID.\n",
    "\n",
    "Product Media: Direct links to product images and the official product page on Amazon."
   ]
  },
  {
   "cell_type": "markdown",
   "id": "ce4a36d7",
   "metadata": {},
   "source": [
    "# Inspiration:\n",
    "\n",
    "Amazon, a pioneering American tech multinational, has revolutionized the e-commerce landscape. With its end-to-end business model covering inventory management to customer service, Amazon stands as a beacon in the retail industry. This project aims to  derive meaningful insights, create innovative solutions, and explore the vast potential of e-commerce data.\n",
    "\n",
    "The goal is to unravel customer preferences, decipher purchasing trends, and develop a recommendation system capable of suggesting products aligned with user interests. "
   ]
  },
  {
   "cell_type": "markdown",
   "id": "4f5725c6",
   "metadata": {},
   "source": [
    "# Project Outline\n",
    "\n",
    "📊 Data collection: We'll procure the Amazon products dataset from Kaggle.\n",
    "\n",
    "🧹 Data preparation: Dive into the dataset, cleansing and preprocessing it to ensure pristine analysis.\n",
    "\n",
    "🕵️‍♂️ Exploratory data analysis: Uncover the dataset's secrets, exploring the distribution of products across categories, customer ratings, and reviews.\n",
    "\n",
    "📈 Data visualization: Illuminate the data's nuances through captivating visualizations, identifying trends and patterns.\n",
    "\n",
    "💡 Simple recommendation system: Employ machine learning algorithms to fashion a recommendation system, steering users toward products aligned with their interests and past choices."
   ]
  },
  {
   "cell_type": "markdown",
   "id": "3139c271",
   "metadata": {},
   "source": [
    "## Import Libraries"
   ]
  },
  {
   "cell_type": "code",
   "execution_count": 1,
   "id": "1af429ff",
   "metadata": {},
   "outputs": [],
   "source": [
    "import pandas as pd\n",
    "#!pip install tabulate\n",
    "#from tabulate import tabulate\n",
    "import numpy as np\n",
    "import matplotlib.pyplot as plt\n",
    "import seaborn as sns"
   ]
  },
  {
   "cell_type": "markdown",
   "id": "f40041e1",
   "metadata": {},
   "source": [
    "# 1.0 Data collection"
   ]
  },
  {
   "cell_type": "markdown",
   "id": "61230dd2",
   "metadata": {},
   "source": [
    "Dataset Features:\n",
    "\n",
    "- product_id: Unique Product ID\n",
    "- product_name: Product Title\n",
    "- category: Product Category\n",
    "- discounted_price: Discounted Product Price\n",
    "- actual_price: Original Product Price\n",
    "- discount_percentage: Discount Percentage\n",
    "- rating: Product Rating\n",
    "- rating_count: Number of Reviews Received\n",
    "- about_product: Product Description\n",
    "- user_id: Reviewer's ID\n",
    "- user_name: Reviewer's Name\n",
    "- review_id: Review ID\n",
    "- review_title: Concise Review Summary\n",
    "- review_content: Detailed Review Insights\n",
    "- img_link: Product Image URL\n",
    "- product_link: Official Product Page URL\n"
   ]
  },
  {
   "cell_type": "markdown",
   "id": "9e65da4b",
   "metadata": {},
   "source": [
    "Source : For dataset access, navigate to Kaggle: https://www.kaggle.com/datasets/karkavelrajaj/amazon-sales-dataset."
   ]
  },
  {
   "cell_type": "code",
   "execution_count": 2,
   "id": "9f860e11",
   "metadata": {},
   "outputs": [],
   "source": [
    "# load CSV file \n",
    "df = pd.read_csv(\"amazon.csv\")"
   ]
  },
  {
   "cell_type": "code",
   "execution_count": null,
   "id": "dff6e4ee",
   "metadata": {},
   "outputs": [],
   "source": [
    "df.head()"
   ]
  },
  {
   "cell_type": "markdown",
   "id": "d6e91a52",
   "metadata": {},
   "source": [
    "# 2.0 Data Preparation"
   ]
  },
  {
   "cell_type": "markdown",
   "id": "1fdd9a7c",
   "metadata": {},
   "source": [
    "Before delving into the captivating realms of data analysis and visualization, it's paramount to ensure the pristine condition of our dataset through systematic data preparation. This pivotal process involves a meticulous journey through the following steps:\n",
    "\n",
    "2.1 🔍 Data Inspection:\n",
    "Initiating the journey, we meticulously inspect the dataset, scrutinizing for potential pitfalls such as missing values, duplicates, or data inconsistencies. Ensuring the correct data types are in place, we meticulously validate the dataset's readiness for analysis.\n",
    "\n",
    "2.2 🧹 Data Cleaning:\n",
    "The subsequent phase entails a thorough cleaning endeavor, ridding the dataset of errors, inconsistencies, or extraneous information. This purification process is paramount for elevating the dataset's reliability and accuracy.\n",
    "\n",
    "2.3 📏 Data Transformation:\n",
    "Post-cleansing, the dataset may undergo transformation to enhance its utility for analysis. This could involve scaling, normalization, or feature engineering, ensuring the data is optimized for our analytical pursuits.\n",
    "\n",
    "2.4 💾 Data Saving:\n",
    "With the data primed and refined, we conscientiously save it in a new file, preserving the original dataset's integrity. This precautionary measure prevents inadvertent overwrites, allowing us the flexibility to revert to the initial dataset if needed.\n",
    "\n",
    "Adhering to these meticulous steps guarantees that our dataset emerges pristine, accurate, and poised for the analytical exploration that lies ahead! 🚀"
   ]
  },
  {
   "cell_type": "code",
   "execution_count": null,
   "id": "7aadef3d",
   "metadata": {},
   "outputs": [],
   "source": [
    "# check the number of rows and columns\n",
    "df.shape"
   ]
  },
  {
   "cell_type": "code",
   "execution_count": null,
   "id": "bc761d33",
   "metadata": {},
   "outputs": [],
   "source": [
    "# Check for missing values\n",
    "def check_missing_values(dataframe):\n",
    "    \"\"\"\n",
    "    Function to check for missing values in each column of a DataFrame.\n",
    "    \n",
    "    Parameters:\n",
    "    dataframe (DataFrame): Input DataFrame\n",
    "    \n",
    "    Returns:\n",
    "    Series: Series containing the count of missing values for each column\n",
    "    \"\"\"\n",
    "    return dataframe.isnull().sum()\n",
    "\n",
    "\n",
    "# Display the count of missing values for each column\n",
    "print(\"Missing Values per Column:\")\n",
    "print(check_missing_values(df))\n"
   ]
  },
  {
   "cell_type": "markdown",
   "id": "b3c6a64a",
   "metadata": {},
   "source": [
    "There are two missing data in rating_count"
   ]
  },
  {
   "cell_type": "code",
   "execution_count": null,
   "id": "757b0444",
   "metadata": {},
   "outputs": [],
   "source": [
    "# Identify rows where the 'rating_count' column has missing values\n",
    "missing_rating_count_rows = df[df.rating_count.isnull()]\n",
    "if not missing_rating_count_rows.empty:\n",
    "    print(\"\\nRows with Missing 'rating_count':\")\n",
    "    print(missing_rating_count_rows)\n",
    "else:\n",
    "    print(\"\\nNo rows with missing 'rating_count'.\")"
   ]
  },
  {
   "cell_type": "code",
   "execution_count": null,
   "id": "74c1b4b7",
   "metadata": {},
   "outputs": [],
   "source": [
    "# Remove rows with missing values in the 'rating_count' column\n",
    "df.dropna(subset=['rating_count'], inplace=True)"
   ]
  },
  {
   "cell_type": "code",
   "execution_count": null,
   "id": "965a2ec4",
   "metadata": {},
   "outputs": [],
   "source": [
    "# Check for missing values in the DataFrame\n",
    "def check_missing_values(dataframe):\n",
    "    return dataframe.isnull().sum()\n",
    "\n",
    "# Display the count of missing values for each column after removal\n",
    "print(\"Missing Values per Column After Removal:\")\n",
    "print(check_missing_values(df))"
   ]
  },
  {
   "cell_type": "code",
   "execution_count": null,
   "id": "f9a630b2",
   "metadata": {},
   "outputs": [],
   "source": [
    "# Check for duplicates\n",
    "def check_duplicates(dataframe):\n",
    "    return dataframe.duplicated().sum()\n",
    "\n",
    "print(check_duplicates(df))"
   ]
  },
  {
   "cell_type": "code",
   "execution_count": null,
   "id": "e4567d5f",
   "metadata": {},
   "outputs": [],
   "source": [
    "# Check data types\n",
    "def check_data_types(dataframe):\n",
    "    return dataframe.dtypes\n",
    "\n",
    "print(check_data_types(df))"
   ]
  },
  {
   "cell_type": "markdown",
   "id": "402146e4",
   "metadata": {},
   "source": [
    "Some dataset variables might be stored as strings (object data type) instead of numerical values. To conduct numerical analyses, these strings need conversion to numeric format. For instance, for total product price calculations, string-formatted prices must be converted to numeric values."
   ]
  },
  {
   "cell_type": "code",
   "execution_count": null,
   "id": "3ce8f031",
   "metadata": {},
   "outputs": [],
   "source": [
    "# Convert 'discounted_price' column to float after removing '₹' and ',' symbols\n",
    "df['discounted_price'] = df['discounted_price'].astype(str).str.replace('₹', '').str.replace(',', '').astype(float)\n",
    "\n",
    "# Convert 'actual_price' column to float after removing '₹' and ',' symbols\n",
    "df['actual_price'] = df['actual_price'].astype(str).str.replace('₹', '').str.replace(',', '').astype(float)\n",
    "\n",
    "# Convert 'discount_percentage' column to float after removing '%' symbol and dividing by 100\n",
    "df['discount_percentage'] = df['discount_percentage'].astype(str).str.replace('%','').astype(float) / 100"
   ]
  },
  {
   "cell_type": "markdown",
   "id": "4e4dbdce",
   "metadata": {},
   "source": [
    "- The discounted_price and actual_price columns are converted to float data type after removing the '₹' and ',' symbols from the string representation of the prices.\n",
    "- The discount_percentage column is converted to float data type after removing the '%' symbol and then dividing by 100 to get the decimal value."
   ]
  },
  {
   "cell_type": "code",
   "execution_count": null,
   "id": "e3d8f50e",
   "metadata": {},
   "outputs": [],
   "source": [
    "#Finding unusual string in the rating column\n",
    "\n",
    "df['rating'].value_counts()"
   ]
  },
  {
   "cell_type": "code",
   "execution_count": null,
   "id": "b6d6518a",
   "metadata": {},
   "outputs": [],
   "source": [
    "#Inspecting the strange row\n",
    "\n",
    "df.query('rating == \"|\"')"
   ]
  },
  {
   "cell_type": "code",
   "execution_count": null,
   "id": "220714a2",
   "metadata": {},
   "outputs": [],
   "source": [
    "# Identify rows with '|' character in the 'rating' column\n",
    "count_before = df['rating'].str.contains('\\|').sum()\n",
    "print(f\"Total rows with '|' in the 'rating' column before exclusion: {count_before}\")\n",
    "\n",
    "# Exclude rows with '|' character from the 'rating' column to obtain a clean dataset\n",
    "df = df[df['rating'].apply(lambda x: '|' not in str(x))]\n",
    "\n",
    "# Recheck the count of rows with '|' character in the 'rating' column after exclusion\n",
    "count_after = df['rating'].str.contains('\\|').sum()\n",
    "print(f\"Total rows with '|' in the 'rating' column after exclusion: {count_after}\")"
   ]
  },
  {
   "cell_type": "code",
   "execution_count": null,
   "id": "48289c13",
   "metadata": {},
   "outputs": [],
   "source": [
    "# Convert 'rating' column to float after removing ',' symbols\n",
    "df['rating'] = df['rating'].astype(str).str.replace(',', '').astype(float)\n",
    "\n",
    "# Convert 'rating_count' column to float after removing ',' symbols\n",
    "df['rating_count'] = df['rating_count'].astype(str).str.replace(',', '').astype(float)"
   ]
  },
  {
   "cell_type": "code",
   "execution_count": null,
   "id": "4434024d",
   "metadata": {},
   "outputs": [],
   "source": [
    "# Check data types after cleansing\n",
    "print(check_data_types(df))"
   ]
  },
  {
   "cell_type": "markdown",
   "id": "16f0f3aa",
   "metadata": {},
   "source": [
    "After adjusting data types, let's introduce a new column: *rating_weighted*. This metric considers both average rating(rating) and the number of raters (rating_count), emphasizing ratings with more reviews. It highlights products with widespread positive feedback, distinguishing them from products with high ratings but limited reviews."
   ]
  },
  {
   "cell_type": "code",
   "execution_count": null,
   "id": "93d73e24",
   "metadata": {},
   "outputs": [],
   "source": [
    "# Creating the column \"rating_weighted\"\n",
    "df['rating_weighted'] = df['rating'] * df['rating_count']"
   ]
  },
  {
   "cell_type": "code",
   "execution_count": null,
   "id": "8579787a",
   "metadata": {
    "scrolled": true
   },
   "outputs": [],
   "source": [
    "df['rating_weighted'] "
   ]
  },
  {
   "cell_type": "markdown",
   "id": "b16619ca",
   "metadata": {},
   "source": [
    "Extracting main and final categories from the 'category' column clarifies product distribution. The main category offers a broad classification like \"Electronics\", while the final category specifies the product, e.g., \"Smartphones\". This distinction aids in identifying product trends. Moreover, these categories enhance data visualization, enabling clearer representation of product distribution. In essence, categorizing products by both main and final types enriches our data understanding and decision-making."
   ]
  },
  {
   "cell_type": "code",
   "execution_count": null,
   "id": "e0fa7f76",
   "metadata": {},
   "outputs": [],
   "source": [
    "# check the columns now\n",
    "df.columns"
   ]
  },
  {
   "cell_type": "code",
   "execution_count": null,
   "id": "8d2acb3d",
   "metadata": {},
   "outputs": [],
   "source": [
    "#Splitting the Strings in the category column\n",
    "\n",
    "catsplit = df['category'].str.split('|', expand=True)\n",
    "catsplit"
   ]
  },
  {
   "cell_type": "code",
   "execution_count": null,
   "id": "9be328a0",
   "metadata": {},
   "outputs": [],
   "source": [
    "#Renaming category column\n",
    "\n",
    "catsplit = catsplit.rename(columns={0:'category_1', 1:'category_2', 2:'category_3'})"
   ]
  },
  {
   "cell_type": "code",
   "execution_count": null,
   "id": "e748b3f5",
   "metadata": {},
   "outputs": [],
   "source": [
    "# Add new category columns to df\n",
    "df['category_1'] = catsplit['category_1']\n",
    "df['category_2'] = catsplit['category_2']\n",
    "\n",
    "# Drop the original 'category' column\n",
    "#df1.drop(columns='category', inplace=True)\n",
    "\n",
    "# Display the updated DataFrame df1\n",
    "df\n"
   ]
  },
  {
   "cell_type": "code",
   "execution_count": null,
   "id": "a6b46018",
   "metadata": {},
   "outputs": [],
   "source": [
    "# Display the count of unique values in the 'category_1' column\n",
    "category_1_counts = df['category_1'].value_counts()\n",
    "print(category_1_counts)\n"
   ]
  },
  {
   "cell_type": "code",
   "execution_count": null,
   "id": "9e558890",
   "metadata": {},
   "outputs": [],
   "source": [
    "# Standardize strings in the 'category_1' column\n",
    "df['category_1'] = df['category_1'].str.replace('&', ' & ') \\\n",
    "                                     .str.replace('OfficeProducts', 'Office Products') \\\n",
    "                                     .str.replace('MusicalInstruments', 'Musical Instruments') \\\n",
    "                                     .str.replace('HomeImprovement', 'Home Improvement')\n"
   ]
  },
  {
   "cell_type": "code",
   "execution_count": null,
   "id": "e5fe7861",
   "metadata": {},
   "outputs": [],
   "source": [
    "# Display the count of unique values in the 'category_2' column\n",
    "category_2_counts = df['category_2'].value_counts()\n",
    "print(category_2_counts)\n"
   ]
  },
  {
   "cell_type": "code",
   "execution_count": null,
   "id": "663f5547",
   "metadata": {},
   "outputs": [],
   "source": [
    "# Standardize strings in the 'category_2' column\n",
    "df['category_2'] = df['category_2'].str.replace('&', ' & ') \\\n",
    "                                     .str.replace(',', ', ') \\\n",
    "                                     .str.replace('HomeAppliances', 'Home Appliances') \\\n",
    "                                     .str.replace('AirQuality', 'Air Quality') \\\n",
    "                                     .str.replace('WearableTechnology', 'Wearable Technology') \\\n",
    "                                     .str.replace('NetworkingDevices', 'Networking Devices') \\\n",
    "                                     .str.replace('OfficePaperProducts', 'Office Paper Products') \\\n",
    "                                     .str.replace('ExternalDevices', 'External Devices') \\\n",
    "                                     .str.replace('DataStorage', 'Data Storage') \\\n",
    "                                     .str.replace('HomeStorage', 'Home Storage') \\\n",
    "                                     .str.replace('HomeAudio', 'Home Audio') \\\n",
    "                                     .str.replace('GeneralPurposeBatteries', 'General Purpose Batteries') \\\n",
    "                                     .str.replace('BatteryChargers', 'Battery Chargers') \\\n",
    "                                     .str.replace('CraftMaterials', 'Craft Materials') \\\n",
    "                                     .str.replace('OfficeElectronics', 'Office Electronics') \\\n",
    "                                     .str.replace('PowerAccessories', 'Power Accessories') \\\n",
    "                                     .str.replace('CarAccessories', 'Car Accessories') \\\n",
    "                                     .str.replace('HomeMedicalSupplies', 'Home Medical Supplies') \\\n",
    "                                     .str.replace('HomeTheater', 'Home Theater')\n"
   ]
  },
  {
   "cell_type": "code",
   "execution_count": null,
   "id": "e6d0cebf",
   "metadata": {},
   "outputs": [],
   "source": [
    "# check the total length (rows) of the dataset\n",
    "len(df)"
   ]
  },
  {
   "cell_type": "code",
   "execution_count": null,
   "id": "c340b470",
   "metadata": {},
   "outputs": [],
   "source": [
    "df.head()"
   ]
  },
  {
   "cell_type": "code",
   "execution_count": null,
   "id": "c553d6ea",
   "metadata": {},
   "outputs": [],
   "source": [
    "# Removing Whitespace from product_id\n",
    "\n",
    "df['product_id'].str.strip()"
   ]
  },
  {
   "cell_type": "code",
   "execution_count": null,
   "id": "90e5109c",
   "metadata": {},
   "outputs": [],
   "source": [
    "# Creating Categories for Rankings\n",
    "rating_score = []\n",
    "\n",
    "for score in df['rating']:\n",
    "    if score < 2.0:\n",
    "        rating_score.append('Highly Dissatisfied')\n",
    "    elif score < 3.0:\n",
    "        rating_score.append('Dissatisfied')\n",
    "    elif score < 4.0:\n",
    "        rating_score.append('Neutral')\n",
    "    elif score < 5.0:\n",
    "        rating_score.append('Satisfied')\n",
    "    elif score == 5.0:\n",
    "        rating_score.append('Highly Satisfied')\n"
   ]
  },
  {
   "cell_type": "code",
   "execution_count": null,
   "id": "ac316c53",
   "metadata": {},
   "outputs": [],
   "source": [
    "#Creating A new Column and Changing the Data Type\n",
    "\n",
    "df['rating_score'] = rating_score\n",
    "\n",
    "df['rating_score'] = df['rating_score'].astype('category')"
   ]
  },
  {
   "cell_type": "code",
   "execution_count": null,
   "id": "cbcf9a04",
   "metadata": {},
   "outputs": [],
   "source": [
    "df.tail(4)"
   ]
  },
  {
   "cell_type": "code",
   "execution_count": null,
   "id": "37d26bf7",
   "metadata": {},
   "outputs": [],
   "source": [
    "# Define the order of categories\n",
    "category_order = ['Highly Dissatisfied', 'Dissatisfied', 'Neutral', 'Satisfied', 'Highly Satisfied']\n",
    "\n",
    "# Reorder the 'rating_score' categories\n",
    "df['rating_score'] = pd.Categorical(df['rating_score'], categories=category_order, ordered=True)\n"
   ]
  },
  {
   "cell_type": "code",
   "execution_count": null,
   "id": "32f45fea",
   "metadata": {},
   "outputs": [],
   "source": [
    "df.head(5)"
   ]
  },
  {
   "cell_type": "code",
   "execution_count": null,
   "id": "047a2131",
   "metadata": {},
   "outputs": [],
   "source": [
    "# Create a new column 'difference_price' to store the price difference\n",
    "df['difference_price'] = df['actual_price'] - df['discounted_price']"
   ]
  },
  {
   "cell_type": "code",
   "execution_count": null,
   "id": "5fe40ae5",
   "metadata": {},
   "outputs": [],
   "source": [
    "#Subsetting Reviewers Identifications\n",
    "\n",
    "reviewers = df[['user_id','user_name']]\n",
    "reviewers"
   ]
  },
  {
   "cell_type": "code",
   "execution_count": null,
   "id": "43c20639",
   "metadata": {},
   "outputs": [],
   "source": [
    "# Split the strings in the 'user_id' column based on the comma separator\n",
    "reviewer_id_split = reviewers['user_id'].str.split(',', expand=False)\n",
    "\n",
    "# Display the result (assuming you want to see it)\n",
    "print(reviewer_id_split)\n"
   ]
  },
  {
   "cell_type": "code",
   "execution_count": null,
   "id": "ca32bc51",
   "metadata": {},
   "outputs": [],
   "source": [
    "# Explode the Series to make each list item a separate row\n",
    "reviewer_id_exp = reviewer_id_split.explode()\n",
    "\n",
    "# Reset the index to have a continuous index after the explosion\n",
    "reviewer_id_clean = reviewer_id_exp.reset_index(drop=True)\n",
    "\n",
    "# Display the cleaned Series\n",
    "print(reviewer_id_clean)\n"
   ]
  },
  {
   "cell_type": "code",
   "execution_count": null,
   "id": "02e60134",
   "metadata": {},
   "outputs": [],
   "source": [
    "len(reviewer_id_clean)"
   ]
  },
  {
   "cell_type": "code",
   "execution_count": null,
   "id": "d5f9a0c3",
   "metadata": {},
   "outputs": [],
   "source": [
    "# Split the strings in the 'user_name' column based on the comma separator\n",
    "reviewer_name_split = reviewers['user_name'].str.split(',', expand=False)\n",
    "\n",
    "# Display the result (assuming you want to see it)\n",
    "print(reviewer_name_split)\n"
   ]
  },
  {
   "cell_type": "code",
   "execution_count": null,
   "id": "d7f73ff6",
   "metadata": {},
   "outputs": [],
   "source": [
    "# Explode the lists in the 'user_name' column to separate rows\n",
    "review_name_exp = reviewer_name_split.explode()\n",
    "\n",
    "# Reset the index to make the output more structured\n",
    "reviewer_name_clean = review_name_exp.reset_index(drop=True)\n",
    "\n",
    "# Display the cleaned reviewer names\n",
    "print(reviewer_name_clean)"
   ]
  },
  {
   "cell_type": "code",
   "execution_count": null,
   "id": "d08ec976",
   "metadata": {},
   "outputs": [],
   "source": [
    "len(reviewer_name_clean)"
   ]
  },
  {
   "cell_type": "code",
   "execution_count": null,
   "id": "91df2c38",
   "metadata": {},
   "outputs": [],
   "source": [
    "# Create DataFrames from the cleaned reviewer IDs and names\n",
    "df21 = pd.DataFrame(data=reviewer_id_clean, columns=['user_id'])\n",
    "df22 = pd.DataFrame(data=reviewer_name_clean, columns=['user_name'])\n",
    "\n",
    "# Merge the two DataFrames on their indices\n",
    "df2 = pd.merge(df21, df22, left_index=True, right_index=True)\n",
    "\n",
    "# Display the first few rows of the merged DataFrame\n",
    "print(df2.head())\n"
   ]
  },
  {
   "cell_type": "code",
   "execution_count": null,
   "id": "5c331628",
   "metadata": {},
   "outputs": [],
   "source": [
    "df.head()"
   ]
  },
  {
   "cell_type": "code",
   "execution_count": null,
   "id": "1e0315a6",
   "metadata": {},
   "outputs": [],
   "source": [
    "df.columns"
   ]
  },
  {
   "cell_type": "code",
   "execution_count": null,
   "id": "b0622dec",
   "metadata": {
    "scrolled": true
   },
   "outputs": [],
   "source": [
    "# Drop unwanted columns from the DataFrame\n",
    "columns_to_drop = ['category', 'user_id','user_name','review_id','review_content', 'about_product','review_title', 'img_link', 'product_link']\n",
    "df1 = df.drop(columns=columns_to_drop)\n",
    "df1.head(3)"
   ]
  },
  {
   "cell_type": "code",
   "execution_count": null,
   "id": "fa4b200a",
   "metadata": {},
   "outputs": [],
   "source": [
    "df2.head(3)"
   ]
  },
  {
   "cell_type": "markdown",
   "id": "4c2f279d",
   "metadata": {},
   "source": [
    "# 3.0 Exploratory Data Analysis (EDA) + Data visualization"
   ]
  },
  {
   "cell_type": "code",
   "execution_count": null,
   "id": "0060cf57",
   "metadata": {},
   "outputs": [],
   "source": [
    "# Set the visualization style to darkgrid\n",
    "sns.set_style(style='darkgrid')\n",
    "\n",
    "# Set the color palette to icefire\n",
    "sns.set_palette(palette=\"icefire\")"
   ]
  },
  {
   "cell_type": "markdown",
   "id": "2c71f4b6",
   "metadata": {},
   "source": [
    "# Observation 1: Product Categorization\n",
    "Here's a breakdown of Main Categories and their corresponding Sub-Categories, aiding in identifying the relationship between sub-categories and their respective main categories:"
   ]
  },
  {
   "cell_type": "code",
   "execution_count": null,
   "id": "6c1c205f",
   "metadata": {},
   "outputs": [],
   "source": [
    "# Extracting relevant columns and renaming them\n",
    "main_sub = df1[['category_1', 'category_2', 'product_id']]\n",
    "main_sub = main_sub.rename(columns={'category_1': 'Main Category', 'category_2': 'Sub-Category', 'product_id': 'Product ID'})\n",
    "\n",
    "# Creating a pivot table to count occurrences\n",
    "main_sub_piv = pd.pivot_table(main_sub, index=['Main Category', 'Sub-Category'], aggfunc='count')\n",
    "\n",
    "# Display the pivot table\n",
    "print(main_sub_piv)\n"
   ]
  },
  {
   "cell_type": "markdown",
   "id": "dc097e5b",
   "metadata": {},
   "source": [
    "### Most Amount of Products by Category"
   ]
  },
  {
   "cell_type": "code",
   "execution_count": null,
   "id": "3c644f76",
   "metadata": {},
   "outputs": [],
   "source": [
    "# Most amount of products by category\n",
    "most_main_items = df1['category_1'].value_counts().head(5).rename_axis('category_1').reset_index(name='counts')\n",
    "most_sub_items = df1['category_2'].value_counts().head(10).rename_axis('category_2').reset_index(name='counts')\n",
    "\n",
    "# Create subplots\n",
    "fig, ax = plt.subplots(2, 1, figsize=(10, 12))\n",
    "fig.suptitle('Most Amount of Products by Category', fontweight='heavy', size='x-large')\n",
    "\n",
    "# Bar plots\n",
    "sns.barplot(ax=ax[0], data=most_main_items, x='counts', y='category_1', palette='viridis')\n",
    "sns.barplot(ax=ax[1], data=most_sub_items, x='counts', y='category_2', palette='viridis')\n",
    "\n",
    "# Adjust spacing\n",
    "plt.subplots_adjust(hspace=0.3)\n",
    "\n",
    "# Set labels and titles\n",
    "for i in range(2):\n",
    "    ax[i].set_xlabel('Count', fontweight='bold')\n",
    "    ax[i].set_ylabel('Product Category', fontweight='bold')\n",
    "    ax[i].set_title(f'Most Products by {\"Main\" if i == 0 else \"Sub-\"} Category', fontweight='bold')\n",
    "    ax[i].bar_label(ax[i].containers[0])\n",
    "\n",
    "plt.show()\n"
   ]
  },
  {
   "cell_type": "markdown",
   "id": "066a783a",
   "metadata": {},
   "source": [
    "The dataset predominantly features products in the Electronics category, particularly accessories & peripherals and kitchen & home appliances. In essence, the majority of items in this dataset are closely associated with electronic devices."
   ]
  },
  {
   "cell_type": "markdown",
   "id": "74125b22",
   "metadata": {},
   "source": [
    "### Top 5 Most Expensive Products After Discount"
   ]
  },
  {
   "cell_type": "code",
   "execution_count": null,
   "id": "e775e12c",
   "metadata": {},
   "outputs": [],
   "source": [
    "# Set the style and palette\n",
    "sns.set_style('whitegrid')\n",
    "sns.set_palette('pastel')\n",
    "\n",
    "# Create the bar plot\n",
    "disc_exp = sns.barplot(data=df1.sort_values('discounted_price', ascending=False).head(5), \n",
    "                       x='discounted_price', y='product_name')\n",
    "\n",
    "# Set title and labels\n",
    "disc_exp.set_title('Top 5 Most Expensive Products After Discount', fontweight='bold', fontsize=14)\n",
    "disc_exp.set_xlabel('Discounted Price (Rupee India)', fontweight='bold', fontsize=12)\n",
    "disc_exp.set_ylabel('Product Name', fontweight='bold', fontsize=12)\n",
    "\n",
    "# Display the plot\n",
    "plt.tight_layout()\n",
    "plt.show()"
   ]
  },
  {
   "cell_type": "markdown",
   "id": "732c4fa0",
   "metadata": {},
   "source": [
    "### Top 5 Cheapest Products After Discount"
   ]
  },
  {
   "cell_type": "code",
   "execution_count": null,
   "id": "81be39d4",
   "metadata": {},
   "outputs": [],
   "source": [
    "\n",
    "# Set the style and palette\n",
    "sns.set_style('whitegrid')\n",
    "sns.set_palette('pastel')\n",
    "\n",
    "# Create the bar plot\n",
    "disc_cheap = sns.barplot(data=df1.sort_values('discounted_price').head(5), \n",
    "                         x='discounted_price', y='product_name')\n",
    "\n",
    "# Set title and labels\n",
    "disc_cheap.set_title('Top 5 Cheapest Products After Discount', fontweight='bold', fontsize=14)\n",
    "disc_cheap.set_xlabel('Discounted Price (Rupee India)', fontweight='bold', fontsize=12)\n",
    "disc_cheap.set_ylabel('Product Name', fontweight='bold', fontsize=12)\n",
    "\n",
    "# Display the plot\n",
    "plt.tight_layout()\n",
    "plt.show()\n"
   ]
  },
  {
   "cell_type": "markdown",
   "id": "f627442f",
   "metadata": {},
   "source": [
    "### Top 5 Products with the Largest Price Difference"
   ]
  },
  {
   "cell_type": "code",
   "execution_count": null,
   "id": "6181fdf6",
   "metadata": {},
   "outputs": [],
   "source": [
    "# Set the style and palette\n",
    "sns.set_style('whitegrid')\n",
    "sns.set_palette('pastel')\n",
    "\n",
    "# Create the bar plot\n",
    "dif_price_large = sns.barplot(data=df1.sort_values('difference_price', ascending=False).head(5), \n",
    "                              x='difference_price', y='product_name')\n",
    "\n",
    "# Set title and labels\n",
    "dif_price_large.set_title('Top 5 Products with the Largest Price Difference', fontweight='bold', fontsize=14)\n",
    "dif_price_large.set_xlabel('Price Difference (Rupee India)', fontweight='bold', fontsize=12)\n",
    "dif_price_large.set_ylabel('Product Name', fontweight='bold', fontsize=12)\n",
    "\n",
    "# Display the plot\n",
    "plt.tight_layout()\n",
    "plt.show()\n"
   ]
  },
  {
   "cell_type": "markdown",
   "id": "b4144356",
   "metadata": {},
   "source": [
    "# Observation 2: Feature Correlations\n",
    "When exploring datasets, understanding the relationships between different features can provide valuable insights. By examining correlations, we can identify which features might influence each other, potentially revealing underlying patterns or dependencies within the data. This observation delves into the interrelationships between various attributes, shedding light on how changes in one feature might impact others.\n"
   ]
  },
  {
   "cell_type": "markdown",
   "id": "c60a3d41",
   "metadata": {},
   "source": [
    "### Heatmap & Correlation between Actual Price & Discounted Price"
   ]
  },
  {
   "cell_type": "code",
   "execution_count": null,
   "id": "c263c2e5",
   "metadata": {},
   "outputs": [],
   "source": [
    "# Filter out non-numeric columns\n",
    "numeric_df = df1.select_dtypes(include=['float64', 'int64'])\n",
    "\n",
    "# Create subplots\n",
    "fig, ax = plt.subplots(2, 1, figsize=(10, 12))\n",
    "\n",
    "# Set title for the entire figure\n",
    "fig.suptitle('Correlation Between Features', fontweight='heavy', size='xx-large')\n",
    "\n",
    "# Plot heatmap\n",
    "sns.heatmap(data=numeric_df.corr(), ax=ax[0], cmap='coolwarm', annot=True, fmt='.2f', linewidths=.5)\n",
    "ax[0].set_title('Heatmap', fontweight='bold')\n",
    "\n",
    "# Scatter plot for Actual Price vs. Discounted Price\n",
    "sns.scatterplot(data=df1, x='actual_price', y='discounted_price', ax=ax[1], color='brown')\n",
    "ax[1].set_title('Correlation between Actual Price & Discounted Price', fontweight='bold')\n",
    "ax[1].set_xlabel('Actual Price (Rupee India)', fontweight='bold')\n",
    "ax[1].set_ylabel('Discounted Price (Rupee India)', fontweight='bold')\n",
    "\n",
    "# Adjust subplot spacing\n",
    "plt.subplots_adjust(hspace=0.5)\n",
    "\n",
    "plt.show()\n"
   ]
  },
  {
   "cell_type": "markdown",
   "id": "bb10fa29",
   "metadata": {},
   "source": [
    "# Observation 3: Product Ratings\n",
    "\n",
    "Product ratings play a pivotal role in influencing consumer decisions and gauging product quality. This observation delves into the distribution, trends, and significance of product ratings within the dataset. By examining the range, mean, and distribution of ratings, we can glean insights into customer satisfaction, identify top-performing products, and potentially uncover factors that correlate with higher or lower ratings. Furthermore, this analysis may shed light on the relationship between ratings and other product attributes, offering a comprehensive understanding of how customers perceive and interact with the products."
   ]
  },
  {
   "cell_type": "markdown",
   "id": "cd588627",
   "metadata": {},
   "source": [
    "### Rating & Amount of Ratings Distribution"
   ]
  },
  {
   "cell_type": "code",
   "execution_count": null,
   "id": "11c530fe",
   "metadata": {},
   "outputs": [],
   "source": [
    "# Set the style\n",
    "sns.set_style('whitegrid')\n",
    "\n",
    "# Create subplots\n",
    "fig, ax = plt.subplots(1, 2, figsize=(16, 6))\n",
    "\n",
    "# Set title for the entire figure\n",
    "fig.suptitle('Rating & Amount of Ratings Distribution', fontweight='heavy', size='xx-large')\n",
    "\n",
    "# Histogram for Rating Distribution\n",
    "sns.histplot(data=df1, x='rating', bins=15, kde=True, color='blue', ax=ax[0])\n",
    "ax[0].set_xlabel('Rating', fontweight='bold')\n",
    "ax[0].set_ylabel('Count', fontweight='bold')\n",
    "ax[0].set_title('Rating Distribution', fontweight='bold')\n",
    "\n",
    "# Histogram for Amount of Ratings Distribution\n",
    "sns.histplot(data=df1, x='rating_count', bins=10, kde=True, color='purple', ax=ax[1])\n",
    "ax[1].set_xlabel('Amount of Ratings', fontweight='bold')\n",
    "ax[1].set_ylabel('Count', fontweight='bold')\n",
    "ax[1].set_title('Amount of Ratings Distribution', fontweight='bold')\n",
    "\n",
    "# Adjust layout\n",
    "plt.tight_layout(rect=[0, 0.03, 1, 0.95])\n",
    "\n",
    "plt.show()"
   ]
  },
  {
   "cell_type": "markdown",
   "id": "54d27591",
   "metadata": {},
   "source": [
    "The majority of product ratings fall between 4.0 and 4.375, and notably, no products have ratings below 2.0. The distribution of ratings leans slightly towards the left.\n",
    "\n",
    "Regarding the number of ratings a product receives, it varies widely. A significant portion of products garner 0 to 5000 ratings. Intriguingly, some products accumulate over 40,000 ratings, indicating their widespread popularity. The distribution of ratings counts is notably skewed to the right."
   ]
  },
  {
   "cell_type": "markdown",
   "id": "6f223f95",
   "metadata": {},
   "source": [
    "### Rating Distribution by Product Main Category"
   ]
  },
  {
   "cell_type": "code",
   "execution_count": null,
   "id": "192a1b70",
   "metadata": {},
   "outputs": [],
   "source": [
    "# Set the style\n",
    "sns.set_style('whitegrid')\n",
    "\n",
    "# Create the plot\n",
    "plt.figure(figsize=(12, 8))\n",
    "sns.boxplot(data=df1, x='rating', y='category_1', palette='pastel')\n",
    "\n",
    "# Customize labels and title\n",
    "plt.xlabel('Rating', fontweight='bold')\n",
    "plt.ylabel('Product Main Category', fontweight='bold')\n",
    "plt.title('Rating Distribution by Product Main Category', fontweight='heavy', size='x-large', pad=20)\n",
    "\n",
    "# Show the plot\n",
    "plt.tight_layout()\n",
    "plt.show()\n"
   ]
  },
  {
   "cell_type": "markdown",
   "id": "e4bad3c8",
   "metadata": {},
   "source": [
    "Ratings for Toys & Games, Car & Motorbike, and Health & Personal Care products typically hover between 3.75 and 4.375. Conversely, Home Improvement and Office Products consistently maintain a baseline rating of 4.0 or higher.\n",
    "\n",
    "Within the Computer & Accessories and Electronics categories, ratings span from 3.6 to 4.6. While some items in these categories boast a perfect score of 5.0, others dip as low as 2.75.\n",
    "\n",
    "Home & Kitchen stands out with its varied ratings, ranging from a high of 4.75 to a low of 2.0 — the lowest in our dataset. Yet, the majority of products within this category typically score between 3.8 and 4.6."
   ]
  },
  {
   "cell_type": "markdown",
   "id": "962505df",
   "metadata": {},
   "source": [
    "### Count of the occurence of category_1 ( Main) and rating_score for products"
   ]
  },
  {
   "cell_type": "code",
   "execution_count": null,
   "id": "07267cc4",
   "metadata": {},
   "outputs": [],
   "source": [
    "# Grouping by 'category_1' and 'rating_score', then counting the occurrences\n",
    "rate_main_cat = df1.groupby(['category_1', 'rating_score']).size().reset_index(name='Amount')\n",
    "\n",
    "# Renaming columns for clarity\n",
    "rate_main_cat = rate_main_cat.rename(columns={'category_1': 'Main Category', 'rating_score': 'Rating Category'})\n",
    "\n",
    "rate_main_cat"
   ]
  },
  {
   "cell_type": "markdown",
   "id": "67fbb870",
   "metadata": {},
   "source": [
    "### Rating Distribution by Product Sub-Category"
   ]
  },
  {
   "cell_type": "code",
   "execution_count": null,
   "id": "b3d31d3f",
   "metadata": {},
   "outputs": [],
   "source": [
    "# Setting the visualization style\n",
    "sns.set_style(\"whitegrid\")\n",
    "\n",
    "# Creating the boxplot\n",
    "fig, ax = plt.subplots(figsize=(12, 7))\n",
    "sns.boxplot(ax=ax, data=df1, x='rating', y='category_2', palette=\"viridis\")\n",
    "\n",
    "# Setting labels and title\n",
    "ax.set_xlabel('Rating', fontweight='bold')\n",
    "ax.set_ylabel('Product Sub-Category', fontweight='bold')\n",
    "ax.set_title('Rating Distribution by Product Sub-Category', fontweight='heavy', size='x-large', y=1.03)\n",
    "\n",
    "plt.show()"
   ]
  },
  {
   "cell_type": "markdown",
   "id": "8cbebb9a",
   "metadata": {},
   "source": [
    "In the graph depicting the Rating Distribution by Product Sub-Category, noteworthy observations include the highest-rated product originating from the sub-category of Accessories & Peripherals. Conversely, the lowest-rated product hails from the sub-category of Heating, Cooling & Air Quality."
   ]
  },
  {
   "cell_type": "markdown",
   "id": "66dfc244",
   "metadata": {},
   "source": [
    "### Count of the occurence of category_2 (sub) and rating_score"
   ]
  },
  {
   "cell_type": "code",
   "execution_count": null,
   "id": "8483db6c",
   "metadata": {},
   "outputs": [],
   "source": [
    "# Grouping by 'category_2' and 'rating_score', then counting the occurrences\n",
    "rate_sub_cat = df1.groupby(['category_2', 'rating_score']).size().reset_index(name='Amount')\n",
    "\n",
    "# Renaming columns for clarity\n",
    "rate_sub_cat = rate_sub_cat.rename(columns={'category_2': 'Sub Category', 'rating_score': 'Rating Category'})\n",
    "\n",
    "rate_sub_cat"
   ]
  },
  {
   "cell_type": "markdown",
   "id": "0c64cddf",
   "metadata": {},
   "source": [
    "### Bar plot of the Rating of All Products in Percentages"
   ]
  },
  {
   "cell_type": "code",
   "execution_count": null,
   "id": "fbe3acaa",
   "metadata": {},
   "outputs": [],
   "source": [
    "# Percentage Distribution of Product Ratings\n",
    "\n",
    "category_order = ['Highly Dissatisfied', 'Dissatisfied', 'Neutral', 'Satisfied', 'Highly Satisfied']\n",
    "\n",
    "rating_percentage = df1['rating_score'].value_counts(normalize=True).rename_axis('rating').reset_index(name='percentage')\n",
    "\n",
    "rating_percentage['percentage'] = (rating_percentage['percentage'] * 100).round(2)\n",
    "\n",
    "rating_plot = sns.barplot(data=rating_percentage, x='rating', y='percentage', order=category_order)\n",
    "\n",
    "rating_plot.set_xlabel('Rating Category', fontweight='bold')\n",
    "rating_plot.set_ylabel('Percentage (%)', fontweight='bold')\n",
    "rating_plot.set_title('Percentage Distribution of Product Ratings', fontweight='heavy', size='x-large', y=1.03)\n",
    "\n",
    "rating_plot.bar_label(rating_plot.containers[0])\n",
    "\n",
    "plt.show()"
   ]
  },
  {
   "cell_type": "markdown",
   "id": "15ba1b46",
   "metadata": {},
   "source": [
    "In this dataset, a majority of products receive a Neutral rating. Only a limited number of products fall under the Dissatisfied and Highly Satisfied categories. Notably, there are no products rated as Highly Dissatisfied."
   ]
  },
  {
   "cell_type": "markdown",
   "id": "7ad11308",
   "metadata": {},
   "source": [
    "### Pivot table for Ratings"
   ]
  },
  {
   "cell_type": "code",
   "execution_count": null,
   "id": "e75666ad",
   "metadata": {},
   "outputs": [],
   "source": [
    "# Pivot table for Ratings\n",
    "\n",
    "rating_pivot = df1.pivot_table(values=['rating', 'rating_count'], index=['category_1', 'category_2'], aggfunc={'rating': [p25, np.median, np.mean, p75], 'rating_count': [np.median, np.mean, p25, p75]})\n",
    "\n",
    "# Renaming columns and indexes for clarity\n",
    "rating_pivot = rating_pivot.rename(columns={'rating': 'Rating Metrics', 'rating_count': 'Rating Count Metrics'}, level=0)\n",
    "rating_pivot.index.names = ['Main Category', 'Sub Category']\n",
    "\n",
    "rating_pivot\n"
   ]
  },
  {
   "cell_type": "markdown",
   "id": "d86f97bc",
   "metadata": {},
   "source": [
    "# Observation 4: Reviewers"
   ]
  },
  {
   "cell_type": "markdown",
   "id": "74fb1931",
   "metadata": {},
   "source": [
    "### Reviewers with the Most Ratings and Reviews"
   ]
  },
  {
   "cell_type": "code",
   "execution_count": null,
   "id": "94133d49",
   "metadata": {},
   "outputs": [],
   "source": [
    "df2.head()"
   ]
  },
  {
   "cell_type": "code",
   "execution_count": null,
   "id": "4c2c89a9",
   "metadata": {},
   "outputs": [],
   "source": [
    "# Reviewers with the Most Ratings and Reviews\n",
    "\n",
    "top_reviewers = df2['user_name'].value_counts().head(10).rename_axis('Reviewer Name').reset_index(name='Counts')\n",
    "\n",
    "plt.figure(figsize=(10, 6))\n",
    "top_review_plot = sns.barplot(data=top_reviewers, x='Counts', y='Reviewer Name', palette='viridis')\n",
    "\n",
    "for index, value in enumerate(top_reviewers['Counts']):\n",
    "    top_review_plot.text(value, index, str(value), color='black', ha=\"left\", va=\"center\")\n",
    "\n",
    "top_review_plot.set_xlabel('Number of Reviews', fontweight='bold')\n",
    "top_review_plot.set_ylabel('Reviewer Name', fontweight='bold')\n",
    "top_review_plot.set_title('Top 10 Active Reviewers', fontweight='heavy', size='x-large', y=1.03)\n",
    "\n",
    "plt.show()\n"
   ]
  },
  {
   "cell_type": "code",
   "execution_count": null,
   "id": "edb25e8c",
   "metadata": {},
   "outputs": [],
   "source": []
  },
  {
   "cell_type": "code",
   "execution_count": null,
   "id": "0c4215c5",
   "metadata": {},
   "outputs": [],
   "source": []
  },
  {
   "cell_type": "code",
   "execution_count": null,
   "id": "f429ab6f",
   "metadata": {},
   "outputs": [],
   "source": []
  },
  {
   "cell_type": "code",
   "execution_count": null,
   "id": "bb80996f",
   "metadata": {},
   "outputs": [],
   "source": []
  },
  {
   "cell_type": "code",
   "execution_count": null,
   "id": "16cfea4a",
   "metadata": {},
   "outputs": [],
   "source": []
  },
  {
   "cell_type": "code",
   "execution_count": null,
   "id": "799c599d",
   "metadata": {},
   "outputs": [],
   "source": []
  },
  {
   "cell_type": "code",
   "execution_count": null,
   "id": "42bc8372",
   "metadata": {},
   "outputs": [],
   "source": []
  },
  {
   "cell_type": "code",
   "execution_count": null,
   "id": "dc5cae44",
   "metadata": {},
   "outputs": [],
   "source": []
  },
  {
   "cell_type": "code",
   "execution_count": null,
   "id": "18a6aac5",
   "metadata": {},
   "outputs": [],
   "source": []
  },
  {
   "cell_type": "code",
   "execution_count": null,
   "id": "fc849aa1",
   "metadata": {},
   "outputs": [],
   "source": []
  },
  {
   "cell_type": "code",
   "execution_count": null,
   "id": "cc2725af",
   "metadata": {},
   "outputs": [],
   "source": []
  },
  {
   "cell_type": "code",
   "execution_count": null,
   "id": "fa3c4048",
   "metadata": {},
   "outputs": [],
   "source": []
  },
  {
   "cell_type": "code",
   "execution_count": null,
   "id": "d7083621",
   "metadata": {},
   "outputs": [],
   "source": []
  },
  {
   "cell_type": "code",
   "execution_count": null,
   "id": "8d6b4bf8",
   "metadata": {},
   "outputs": [],
   "source": []
  },
  {
   "cell_type": "code",
   "execution_count": null,
   "id": "ff5063c3",
   "metadata": {},
   "outputs": [],
   "source": []
  },
  {
   "cell_type": "code",
   "execution_count": null,
   "id": "196bd3af",
   "metadata": {},
   "outputs": [],
   "source": []
  },
  {
   "cell_type": "code",
   "execution_count": null,
   "id": "267d3db4",
   "metadata": {},
   "outputs": [],
   "source": []
  },
  {
   "cell_type": "code",
   "execution_count": null,
   "id": "5cb5e018",
   "metadata": {},
   "outputs": [],
   "source": []
  }
 ],
 "metadata": {
  "kernelspec": {
   "display_name": "Python 3 (ipykernel)",
   "language": "python",
   "name": "python3"
  },
  "language_info": {
   "codemirror_mode": {
    "name": "ipython",
    "version": 3
   },
   "file_extension": ".py",
   "mimetype": "text/x-python",
   "name": "python",
   "nbconvert_exporter": "python",
   "pygments_lexer": "ipython3",
   "version": "3.11.3"
  }
 },
 "nbformat": 4,
 "nbformat_minor": 5
}
